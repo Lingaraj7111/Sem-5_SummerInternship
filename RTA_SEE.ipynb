{
  "nbformat": 4,
  "nbformat_minor": 0,
  "metadata": {
    "colab": {
      "provenance": []
    },
    "kernelspec": {
      "name": "python3",
      "display_name": "Python 3"
    },
    "language_info": {
      "name": "python"
    }
  },
  "cells": [
    {
      "cell_type": "code",
      "execution_count": 1,
      "metadata": {
        "colab": {
          "base_uri": "https://localhost:8080/"
        },
        "id": "HAy7L4YKHefN",
        "outputId": "2d2fe053-d764-41a4-91b7-4af98a1b5e1e"
      },
      "outputs": [
        {
          "output_type": "stream",
          "name": "stdout",
          "text": [
            "UCK for H2O: 0dcffe6c6764141dbaf6c35c84ebfb66\n"
          ]
        }
      ],
      "source": [
        "import networkx as nx\n",
        "import hashlib\n",
        "\n",
        "def calculate_depth(G, node):\n",
        "    # Heuristic for calculating depth based on local structure\n",
        "    neighbors = list(G.neighbors(node))\n",
        "    num_neighbors = len(neighbors)\n",
        "    degree = G.degree[node]\n",
        "\n",
        "    # Basic heuristic: higher degree nodes and those with more neighbors might need greater depth\n",
        "    if degree > 3 or num_neighbors > 3:\n",
        "        return 3\n",
        "    elif degree > 2 or num_neighbors > 2:\n",
        "        return 2\n",
        "    else:\n",
        "        return 1\n",
        "\n",
        "def relabel_nodes(G, depth_dict):\n",
        "    labels = {node: str(node) for node in G.nodes()}\n",
        "\n",
        "    for d in range(1, max(depth_dict.values()) + 1):\n",
        "        new_labels = {}\n",
        "        for node in G.nodes():\n",
        "            if depth_dict[node] >= d:\n",
        "                # Collect labels of neighbors within the current depth\n",
        "                neighbor_labels = sorted([labels[neighbor] for neighbor in G.neighbors(node)])\n",
        "                # Concatenate current label with neighbor labels\n",
        "                new_labels[node] = labels[node] + ''.join(neighbor_labels)\n",
        "            else:\n",
        "                new_labels[node] = labels[node]\n",
        "        labels = new_labels\n",
        "\n",
        "    return labels\n",
        "\n",
        "def generate_uck(G):\n",
        "    # Calculate depth for each node\n",
        "    depth_dict = {node: calculate_depth(G, node) for node in G.nodes()}\n",
        "\n",
        "    # Relabel nodes based on their calculated depth\n",
        "    labels = relabel_nodes(G, depth_dict)\n",
        "\n",
        "    # Create pairwise strings\n",
        "    pairwise_strings = []\n",
        "    for node1 in G.nodes():\n",
        "        for node2 in G.nodes():\n",
        "            if node1 != node2:\n",
        "                shortest_path_length = nx.shortest_path_length(G, node1, node2)\n",
        "                pairwise_string = labels[node1] + labels[node2] + str(shortest_path_length)\n",
        "                pairwise_strings.append(pairwise_string)\n",
        "\n",
        "    # Sort and concatenate pairwise strings\n",
        "    sorted_strings = ''.join(sorted(pairwise_strings))\n",
        "\n",
        "    # Generate UCK using MD5 hashing\n",
        "    uck = hashlib.md5(sorted_strings.encode('utf-8')).hexdigest()\n",
        "\n",
        "    return uck\n",
        "\n",
        "# Example usage with water molecule H2O\n",
        "G = nx.Graph()\n",
        "G.add_nodes_from([\"O\", \"H1\", \"H2\"])\n",
        "G.add_edges_from([(\"O\", \"H1\"), (\"O\", \"H2\")])\n",
        "\n",
        "uck = generate_uck(G)\n",
        "print(\"UCK for H2O:\", uck)\n"
      ]
    },
    {
      "cell_type": "code",
      "source": [
        "import networkx as nx\n",
        "import hashlib\n",
        "\n",
        "def calculate_depth(G, node):\n",
        "    # Heuristic for calculating depth based on local structure\n",
        "    neighbors = list(G.neighbors(node))\n",
        "    num_neighbors = len(neighbors)\n",
        "    degree = G.degree[node]\n",
        "\n",
        "    # Basic heuristic: higher degree nodes and those with more neighbors might need greater depth\n",
        "    if degree > 3 or num_neighbors > 3:\n",
        "        return 3\n",
        "    elif degree > 2 or num_neighbors > 2:\n",
        "        return 2\n",
        "    else:\n",
        "        return 1\n",
        "\n",
        "def relabel_nodes(G, depth_dict):\n",
        "    labels = {node: str(node) for node in G.nodes()}\n",
        "\n",
        "    for d in range(1, max(depth_dict.values()) + 1):\n",
        "        new_labels = {}\n",
        "        for node in G.nodes():\n",
        "            if depth_dict[node] >= d:\n",
        "                # Collect labels of neighbors within the current depth\n",
        "                neighbor_labels = sorted([labels[neighbor] for neighbor in G.neighbors(node)])\n",
        "                # Concatenate current label with neighbor labels\n",
        "                new_labels[node] = labels[node] + ''.join(neighbor_labels)\n",
        "            else:\n",
        "                new_labels[node] = labels[node]\n",
        "        labels = new_labels\n",
        "\n",
        "    return labels\n",
        "\n",
        "def generate_uck(G):\n",
        "    # Calculate depth for each node\n",
        "    depth_dict = {node: calculate_depth(G, node) for node in G.nodes()}\n",
        "\n",
        "    # Relabel nodes based on their calculated depth\n",
        "    labels = relabel_nodes(G, depth_dict)\n",
        "\n",
        "    # Create pairwise strings\n",
        "    pairwise_strings = []\n",
        "    for node1 in G.nodes():\n",
        "        for node2 in G.nodes():\n",
        "            if node1 != node2:\n",
        "                shortest_path_length = nx.shortest_path_length(G, node1, node2)\n",
        "                pairwise_string = labels[node1] + labels[node2] + str(shortest_path_length)\n",
        "                pairwise_strings.append(pairwise_string)\n",
        "\n",
        "    # Sort and concatenate pairwise strings\n",
        "    sorted_strings = ''.join(sorted(pairwise_strings))\n",
        "\n",
        "    # Generate UCK using MD5 hashing\n",
        "    uck = hashlib.md5(sorted_strings.encode('utf-8')).hexdigest()\n",
        "\n",
        "    return uck\n",
        "\n",
        "# Example usage with benzoic acid (C7H6O2)\n",
        "G = nx.Graph()\n",
        "# Add atoms (nodes)\n",
        "G.add_nodes_from([\"C1\", \"C2\", \"C3\", \"C4\", \"C5\", \"C6\", \"C7\", \"O1\", \"O2\", \"H1\", \"H2\", \"H3\", \"H4\", \"H5\", \"H6\"])\n",
        "# Add bonds (edges)\n",
        "G.add_edges_from([\n",
        "    (\"C1\", \"C2\"), (\"C2\", \"C3\"), (\"C3\", \"C4\"), (\"C4\", \"C5\"), (\"C5\", \"C6\"), (\"C6\", \"C1\"),  # Benzene ring\n",
        "    (\"C1\", \"C7\"), (\"C7\", \"O1\"), (\"C7\", \"O2\"),  # Carboxyl group\n",
        "    (\"C2\", \"H1\"), (\"C3\", \"H2\"), (\"C4\", \"H3\"), (\"C5\", \"H4\"), (\"C6\", \"H5\"), (\"O2\", \"H6\")   # Hydrogens\n",
        "])\n",
        "\n",
        "uck = generate_uck(G)\n",
        "print(\"UCK for Benzoic Acid(C₇H₆O₂):\", uck)\n"
      ],
      "metadata": {
        "colab": {
          "base_uri": "https://localhost:8080/"
        },
        "id": "xzod0OQO2UF4",
        "outputId": "aa7eca8a-ea1e-491d-d05d-1116b2bd7d7e"
      },
      "execution_count": 2,
      "outputs": [
        {
          "output_type": "stream",
          "name": "stdout",
          "text": [
            "UCK for Benzoic Acid(C₇H₆O₂): ffa41511bb9cf3204f68bc1da9df9a8a\n"
          ]
        }
      ]
    },
    {
      "cell_type": "markdown",
      "source": [
        "The process involves:\n",
        "1. Assigning labels based on atom types.\n",
        "2. Relabeling based on neighbors and depth.\n",
        "3. Generating and sorting pairwise strings.\n",
        "4. Hashing the concatenated result using MD5."
      ],
      "metadata": {
        "id": "F6Lu5zeaIzdW"
      }
    },
    {
      "cell_type": "markdown",
      "source": [
        "Challenges of Manual Calculation\n",
        ">Time-Consuming: Even for simple molecules like H₂O, the process involves multiple steps that are endless without automation.\n",
        ">Hashing: The MD5(Message Digest Algorithm 5) hashing step requires computational tools, as performing it manually is impractical."
      ],
      "metadata": {
        "id": "9I7a5DGuJDgr"
      }
    }
  ]
}